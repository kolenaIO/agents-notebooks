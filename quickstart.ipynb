{
 "cells": [
  {
   "cell_type": "markdown",
   "id": "54b36cbe",
   "metadata": {},
   "source": [
    "# Kolena Agents Python Client Quickstart\n"
   ]
  },
  {
   "cell_type": "markdown",
   "id": "9dc4ea51",
   "metadata": {},
   "source": [
    "#### Install Python Client"
   ]
  },
  {
   "cell_type": "code",
   "execution_count": null,
   "id": "8650e44c",
   "metadata": {},
   "outputs": [],
   "source": [
    "%pip install kolena_agents"
   ]
  },
  {
   "cell_type": "markdown",
   "id": "44504130",
   "metadata": {},
   "source": [
    "#### Initialize the Python Client"
   ]
  },
  {
   "cell_type": "code",
   "execution_count": null,
   "id": "6eb257e3",
   "metadata": {},
   "outputs": [],
   "source": [
    "\n",
    "from kolena_agents import Client\n",
    "\n",
    "client = Client()"
   ]
  }
 ],
 "metadata": {
  "kernelspec": {
   "display_name": "app-py3.12",
   "language": "python",
   "name": "python3"
  },
  "language_info": {
   "name": "python",
   "version": "3.12.4"
  }
 },
 "nbformat": 4,
 "nbformat_minor": 5
}
