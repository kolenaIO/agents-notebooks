{
 "cells": [
  {
   "cell_type": "code",
   "execution_count": null,
   "id": "6eb257e3",
   "metadata": {
    "vscode": {
     "languageId": "plaintext"
    }
   },
   "outputs": [],
   "source": [
    "from kolena_agents import Client\n",
    "\n",
    "client = Client()"
   ]
  }
 ],
 "metadata": {
  "language_info": {
   "name": "python"
  }
 },
 "nbformat": 4,
 "nbformat_minor": 5
}
